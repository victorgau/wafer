{
 "cells": [
  {
   "cell_type": "markdown",
   "metadata": {},
   "source": [
    "# 讀取Wafer量測檔案測試"
   ]
  },
  {
   "cell_type": "code",
   "execution_count": null,
   "metadata": {},
   "outputs": [],
   "source": [
    "import pandas as pd\n",
    "import os"
   ]
  },
  {
   "cell_type": "code",
   "execution_count": null,
   "metadata": {},
   "outputs": [],
   "source": [
    "df = pd.read_csv(\"logs/002-01.log\",skiprows=10,sep=\"\\t\")"
   ]
  },
  {
   "cell_type": "code",
   "execution_count": null,
   "metadata": {},
   "outputs": [],
   "source": [
    "df.head()"
   ]
  },
  {
   "cell_type": "code",
   "execution_count": null,
   "metadata": {},
   "outputs": [],
   "source": [
    "df.drop('Unnamed: 10', axis=1).head()"
   ]
  },
  {
   "cell_type": "code",
   "execution_count": null,
   "metadata": {},
   "outputs": [],
   "source": [
    "vbr_max = float(df['VBR'][1])\n",
    "vbr_min = float(df['VBR'][2])\n",
    "vf1_max = float(df['VF1'][1])\n",
    "vf1_min = float(df['VF1'][2])\n",
    "vf2_max = float(df['VF2'][1])\n",
    "vf2_min = float(df['VF2'][2])\n",
    "ir_40v_max = float(df['IR_40V'][1])\n",
    "ir_40v_min = float(df['IR_40V'][2])\n",
    "vf3_max = float(df['VF3'][1])\n",
    "vf3_min = float(df['VF3'][2])"
   ]
  },
  {
   "cell_type": "code",
   "execution_count": null,
   "metadata": {},
   "outputs": [],
   "source": [
    "df = df.drop([0,1,2])"
   ]
  },
  {
   "cell_type": "code",
   "execution_count": null,
   "metadata": {},
   "outputs": [],
   "source": [
    "df['X']=df['X'].astype(int)\n",
    "df['Y']=df['Y'].astype(int)\n",
    "df['VBR']=df['VBR'].astype(float)\n",
    "df['VF1']=df['VF1'].astype(float)\n",
    "df['VF2']=df['VF2'].astype(float)\n",
    "df['IR_40V']=df['IR_40V'].astype(float)\n",
    "df['VF3']=df['VF3'].astype(float)"
   ]
  },
  {
   "cell_type": "code",
   "execution_count": null,
   "metadata": {},
   "outputs": [],
   "source": [
    "vbr = df.pivot(index='Y', columns='X', values='VBR')\n",
    "vf1 = df.pivot(index='Y', columns='X', values='VF1')\n",
    "vf2 = df.pivot(index='Y', columns='X', values='VF2')\n",
    "ir_40v = df.pivot(index='Y', columns='X', values='IR_40V')\n",
    "vf3 = df.pivot(index='Y', columns='X', values='VF3')"
   ]
  },
  {
   "cell_type": "code",
   "execution_count": null,
   "metadata": {},
   "outputs": [],
   "source": [
    "vbr_b = (vbr > 40) & (vbr < 80) \n",
    "vf1_b = (vf1 > 40) & (vf1 < 80) \n",
    "vf2_b = (vf2 > 40) & (vf2 < 80) \n",
    "ir_40v_b = (ir_40v > 40) & (ir_40v < 80) \n",
    "vf3_b = (vf3 > 40) & (vf3 < 80) "
   ]
  },
  {
   "cell_type": "code",
   "execution_count": null,
   "metadata": {},
   "outputs": [],
   "source": [
    "%matplotlib inline\n",
    "import matplotlib.pyplot as plt"
   ]
  },
  {
   "cell_type": "code",
   "execution_count": null,
   "metadata": {},
   "outputs": [],
   "source": [
    "import seaborn as sns"
   ]
  },
  {
   "cell_type": "code",
   "execution_count": null,
   "metadata": {},
   "outputs": [],
   "source": [
    "plt.figure(figsize=(20,20))\n",
    "ax = sns.heatmap(vbr)"
   ]
  },
  {
   "cell_type": "code",
   "execution_count": null,
   "metadata": {},
   "outputs": [],
   "source": [
    "plt.figure(figsize=(20,20))\n",
    "ax = sns.heatmap(vbr_b)"
   ]
  }
 ],
 "metadata": {
  "kernelspec": {
   "display_name": "Python 3",
   "language": "python",
   "name": "python3"
  },
  "language_info": {
   "codemirror_mode": {
    "name": "ipython",
    "version": 3
   },
   "file_extension": ".py",
   "mimetype": "text/x-python",
   "name": "python",
   "nbconvert_exporter": "python",
   "pygments_lexer": "ipython3",
   "version": "3.7.1"
  }
 },
 "nbformat": 4,
 "nbformat_minor": 2
}
