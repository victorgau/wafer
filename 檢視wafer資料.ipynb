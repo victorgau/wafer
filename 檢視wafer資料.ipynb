{
 "cells": [
  {
   "cell_type": "markdown",
   "metadata": {},
   "source": [
    "# 檢查 Die 的狀況的範例程式"
   ]
  },
  {
   "cell_type": "code",
   "execution_count": null,
   "metadata": {},
   "outputs": [],
   "source": [
    "!wget https://github.com/victorgau/wafer/raw/master/utils.py -o /dev/null"
   ]
  },
  {
   "cell_type": "code",
   "execution_count": null,
   "metadata": {},
   "outputs": [],
   "source": [
    "!mkdir logs\n",
    "!wget -P logs/ https://github.com/victorgau/wafer/raw/master/logs/002-01.log -o /dev/null\n",
    "!wget -P logs/ https://github.com/victorgau/wafer/raw/master/logs/002-02.log -o /dev/null\n",
    "!wget -P logs/ https://github.com/victorgau/wafer/raw/master/logs/002-04.log -o /dev/null\n",
    "!wget -P logs/ https://github.com/victorgau/wafer/raw/master/logs/002-05.log -o /dev/null"
   ]
  },
  {
   "cell_type": "code",
   "execution_count": null,
   "metadata": {},
   "outputs": [],
   "source": [
    "import os"
   ]
  },
  {
   "cell_type": "code",
   "execution_count": null,
   "metadata": {},
   "outputs": [],
   "source": [
    "import utils"
   ]
  },
  {
   "cell_type": "code",
   "execution_count": null,
   "metadata": {},
   "outputs": [],
   "source": [
    "# 讀取所有需要分析的檔案\n",
    "files = []\n",
    "for file in os.listdir(\"logs\"):\n",
    "    if file.endswith(\".log\"):\n",
    "        files.append(os.path.join(\"logs\", file))"
   ]
  },
  {
   "cell_type": "code",
   "execution_count": null,
   "metadata": {},
   "outputs": [],
   "source": [
    "# 檢查每一個檔案內的數據\n",
    "try:\n",
    "    for file in files:\n",
    "        utils.examine(file)\n",
    "except Exception as e:\n",
    "    print(e.args)"
   ]
  }
 ],
 "metadata": {
  "kernelspec": {
   "display_name": "Python 3",
   "language": "python",
   "name": "python3"
  },
  "language_info": {
   "codemirror_mode": {
    "name": "ipython",
    "version": 3
   },
   "file_extension": ".py",
   "mimetype": "text/x-python",
   "name": "python",
   "nbconvert_exporter": "python",
   "pygments_lexer": "ipython3",
   "version": "3.7.1"
  }
 },
 "nbformat": 4,
 "nbformat_minor": 2
}
